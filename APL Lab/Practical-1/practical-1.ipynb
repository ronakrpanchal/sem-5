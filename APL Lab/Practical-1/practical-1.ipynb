{
 "cells": [
  {
   "cell_type": "markdown",
   "metadata": {},
   "source": [
    "# A) Using CSV File"
   ]
  },
  {
   "cell_type": "markdown",
   "metadata": {},
   "source": [
    "### Importing Required Libraries."
   ]
  },
  {
   "cell_type": "code",
   "execution_count": 5,
   "metadata": {},
   "outputs": [],
   "source": [
    "import pandas as pd\n",
    "import os"
   ]
  },
  {
   "cell_type": "markdown",
   "metadata": {},
   "source": [
    "### Combining different CSV files into one."
   ]
  },
  {
   "cell_type": "code",
   "execution_count": 6,
   "metadata": {},
   "outputs": [],
   "source": [
    "folder_path = \"/Users/ronakpanchal/Desktop/Advanced Python Programming/APL Lab/Practical-1\"\n",
    "all_files = os.listdir(folder_path)\n",
    "csv_files = [f for f in all_files if f.endswith('.csv')]\n",
    "df_list = []\n",
    "for csv in csv_files:\n",
    "    file_path = os.path.join(folder_path, csv)\n",
    "    df = pd.read_csv(file_path)\n",
    "    df_list.append(df)\n",
    "big_df = pd.concat(df_list, ignore_index=True)\n",
    "big_df.to_csv(os.path.join(folder_path, 'combined_file.csv'), index=False)"
   ]
  },
  {
   "cell_type": "markdown",
   "metadata": {},
   "source": [
    "### Calculating top 3 average rating, valid and invalid dataframes."
   ]
  },
  {
   "cell_type": "code",
   "execution_count": 7,
   "metadata": {},
   "outputs": [],
   "source": [
    "com_df=pd.read_csv('combined_file.csv')\n",
    "prod_avg_df=com_df.groupby('Product ID',as_index=False)['Review Rating'].mean().sort_values('Review Rating',ascending=False).head(3)\n",
    "val_com_df=com_df[\n",
    "    (com_df['Customer ID']!=None) &\n",
    "    (com_df['Product ID']!=None) &\n",
    "    (com_df['Review Rating']!=None) &\n",
    "    (com_df['Review Date']!=None)\n",
    "    ]\n",
    "inval_com_df=com_df[\n",
    "    (com_df['Customer ID'].isna()) &\n",
    "    (com_df['Product ID'].isna()) &\n",
    "    (com_df['Review Rating'].isna()) &\n",
    "    (com_df['Review Date'].isna())\n",
    "    ]"
   ]
  },
  {
   "cell_type": "markdown",
   "metadata": {},
   "source": [
    "### Saving Total no of reviews assessed , total no of valid and invalid reviews , Top 3 products according to rating into summary.txt file."
   ]
  },
  {
   "cell_type": "code",
   "execution_count": 11,
   "metadata": {},
   "outputs": [],
   "source": [
    "with open('summary.txt','w') as file:\n",
    "    file.write(f\"Total number of reviews assesed: {len(val_com_df)+len(inval_com_df)}\")\n",
    "    file.write(f\"\\nTotal valid reviews: {len(val_com_df)}\")\n",
    "    file.write(f\"\\nTotal invalid reviews: {len(inval_com_df)}\")\n",
    "    file.write(\"\\nTop 3 products according to rating:\")\n",
    "    file.write(f\"\\nProduct ID | Rating\")\n",
    "    for pid,avg_ in zip(prod_avg_df['Product ID'],prod_avg_df['Review Rating']):\n",
    "        file.write(f\"\\n{pid} | {avg_}\")"
   ]
  },
  {
   "cell_type": "markdown",
   "metadata": {},
   "source": [
    "# B) Using Text File"
   ]
  },
  {
   "cell_type": "markdown",
   "metadata": {},
   "source": [
    "### Reading txt files and combining it in a single file."
   ]
  },
  {
   "cell_type": "code",
   "execution_count": 8,
   "metadata": {},
   "outputs": [],
   "source": [
    "txt_files=[f for f in all_files if f.endswith('.txt')]\n",
    "lines=[]\n",
    "for f in txt_files:\n",
    "    file_path_txt=os.path.join(folder_path,f)\n",
    "    with open(file_path_txt,'r') as file:\n",
    "        line=file.readlines()\n",
    "        del line[0]\n",
    "        lines.extend(line)\n",
    "with open('combined_file_txt.csv','w') as new_file:\n",
    "    for i in lines:\n",
    "        new_file.write(i)"
   ]
  },
  {
   "cell_type": "markdown",
   "metadata": {},
   "source": [
    "### Calculating top 3 average rating, valid and invalid reviews."
   ]
  },
  {
   "cell_type": "code",
   "execution_count": 9,
   "metadata": {},
   "outputs": [],
   "source": [
    "df_txt=pd.read_csv('combined_file_txt.csv')\n",
    "df_txt.columns=['Customer ID','Product ID','Date','Ratings','Review text']\n",
    "prod_avg_df_txt=df_txt.groupby('Product ID',as_index=False)['Ratings'].mean().sort_values('Ratings',ascending=False).head(3)\n",
    "val_com_df_txt=df_txt[\n",
    "    (df_txt['Customer ID']!=None) &\n",
    "    (df_txt['Product ID']!=None) &\n",
    "    (df_txt['Ratings']!=None) &\n",
    "    (df_txt['Date']!=None)\n",
    "    ]\n",
    "inval_com_df_txt=df_txt[\n",
    "    (df['Customer ID'].isna()) &\n",
    "    (df_txt['Product ID'].isna()) &\n",
    "    (df_txt['Ratings'].isna()) &\n",
    "    (df_txt['Date'].isna())\n",
    "    ]"
   ]
  },
  {
   "cell_type": "markdown",
   "metadata": {},
   "source": [
    "### Saving valid , invalid and total reviews assessed also top 3 product according to ratings."
   ]
  },
  {
   "cell_type": "code",
   "execution_count": 10,
   "metadata": {},
   "outputs": [],
   "source": [
    "with open('summary_txt.txt','w') as file:\n",
    "    file.write(f\"Total number of reviews assesed: {len(val_com_df_txt)+len(inval_com_df_txt)}\")\n",
    "    file.write(f\"\\nTotal valid reviews: {len(val_com_df_txt)}\")\n",
    "    file.write(f\"\\nTotal invalid reviews: {len(inval_com_df_txt)}\")\n",
    "    file.write(\"\\nTop 3 products according to rating:\")\n",
    "    file.write(f\"\\nProduct ID | Rating\")\n",
    "    for pid,avg_ in zip(prod_avg_df_txt['Product ID'],prod_avg_df_txt['Ratings']):\n",
    "        file.write(f\"\\n{pid} | {avg_}\")"
   ]
  }
 ],
 "metadata": {
  "kernelspec": {
   "display_name": "Python 3",
   "language": "python",
   "name": "python3"
  },
  "language_info": {
   "codemirror_mode": {
    "name": "ipython",
    "version": 3
   },
   "file_extension": ".py",
   "mimetype": "text/x-python",
   "name": "python",
   "nbconvert_exporter": "python",
   "pygments_lexer": "ipython3",
   "version": "3.12.4"
  }
 },
 "nbformat": 4,
 "nbformat_minor": 2
}

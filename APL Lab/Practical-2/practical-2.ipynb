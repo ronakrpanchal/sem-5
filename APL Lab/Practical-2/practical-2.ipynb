{
 "cells": [
  {
   "cell_type": "markdown",
   "metadata": {},
   "source": [
    "# Import Required Libraries"
   ]
  },
  {
   "cell_type": "code",
   "execution_count": 1,
   "metadata": {},
   "outputs": [],
   "source": [
    "import pandas as pd"
   ]
  },
  {
   "cell_type": "markdown",
   "metadata": {},
   "source": [
    "# Load Required Data"
   ]
  },
  {
   "cell_type": "code",
   "execution_count": 2,
   "metadata": {},
   "outputs": [],
   "source": [
    "train_df=pd.read_csv(\"train_data.csv\")\n",
    "passenger_df=pd.read_csv(\"passengers.csv\")"
   ]
  },
  {
   "cell_type": "markdown",
   "metadata": {},
   "source": [
    "# Calculate Revenue for each Train"
   ]
  },
  {
   "cell_type": "code",
   "execution_count": 3,
   "metadata": {},
   "outputs": [],
   "source": [
    "#Dictionary to store the extra fare for each class\n",
    "class_dict={\n",
    "    'A':50,\n",
    "    'B':30,\n",
    "    'C':20,\n",
    "    'D':10\n",
    "}\n",
    "\n",
    "# Join both the tables\n",
    "com_df=pd.merge(\n",
    "    left=train_df,\n",
    "    right=passenger_df,\n",
    "    how='inner',\n",
    "    on='Train ID'    \n",
    ")\n",
    "\n",
    "#Calculate available seats\n",
    "com_df['Available Seats']=com_df['Total Seats']-com_df['Number of Tickets']\n",
    "\n",
    "#Adding the status of the booking\n",
    "def checkStatus(x:pd.Series):\n",
    "    if x>0:\n",
    "        return 'Booked'\n",
    "    else:\n",
    "        return 'Cancelled'\n",
    "com_df['Status']=com_df['Available Seats'].apply(checkStatus)\n",
    "\n",
    "#Find the passengers whose booking was cancelled\n",
    "inval_seats=com_df['Available Seats']<0\n",
    "for pname in com_df.loc[inval_seats,'Passenger Name']:\n",
    "    print(f\"Booking was cancelled for {pname} due to unavailibility of seats\")\n",
    "    \n",
    "#Change the Available Seats to original value if found invalid\n",
    "com_df.loc[inval_seats,'Available Seats']+=com_df.loc[inval_seats,'Number of Tickets']\n",
    "\n",
    "#Change the number of tickets to 0 if found invalid\n",
    "com_df.loc[inval_seats,'Number of Tickets']=0\n",
    "\n",
    "#Calculate the revenue according to the class passengers have booked \n",
    "def CalculateRevenue(x):\n",
    "    return x['Number of Tickets']*(x['Total Fare']+class_dict[x['Class']])\n",
    "com_df['Revenue']=com_df.apply(CalculateRevenue,axis=1)\n",
    "\n",
    "#Calculate revenue for each train\n",
    "train_revenue_df=com_df.groupby(['Train ID','Train Name'])['Revenue'].sum().reset_index()"
   ]
  },
  {
   "cell_type": "markdown",
   "metadata": {},
   "source": [
    "# Create a report 1 and report 2."
   ]
  },
  {
   "cell_type": "code",
   "execution_count": 4,
   "metadata": {},
   "outputs": [],
   "source": [
    "#Generate report for the details of the trains\n",
    "report1=com_df[['Train ID','Train Name','Source Station','Destination Station','Available Seats']]\n",
    "report1.to_csv('Report-1.csv',index=False)\n",
    "\n",
    "#Generate report for revenue of each train\n",
    "train_revenue_df.to_csv('Report-2.csv',index=False)"
   ]
  }
 ],
 "metadata": {
  "kernelspec": {
   "display_name": "Python 3",
   "language": "python",
   "name": "python3"
  },
  "language_info": {
   "codemirror_mode": {
    "name": "ipython",
    "version": 3
   },
   "file_extension": ".py",
   "mimetype": "text/x-python",
   "name": "python",
   "nbconvert_exporter": "python",
   "pygments_lexer": "ipython3",
   "version": "3.12.4"
  }
 },
 "nbformat": 4,
 "nbformat_minor": 2
}
